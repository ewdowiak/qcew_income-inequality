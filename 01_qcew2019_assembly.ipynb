{
 "cells": [
  {
   "cell_type": "code",
   "execution_count": 1,
   "metadata": {},
   "outputs": [],
   "source": [
    "##  QCEW data assembly\n",
    "\n",
    "##  Eryk Wdowiak\n",
    "##  29 July 2020"
   ]
  },
  {
   "cell_type": "code",
   "execution_count": 2,
   "metadata": {},
   "outputs": [],
   "source": [
    "##  https://www.bls.gov/cew/downloadable-data-files.htm"
   ]
  },
  {
   "cell_type": "code",
   "execution_count": 3,
   "metadata": {},
   "outputs": [],
   "source": [
    "import warnings\n",
    "warnings.filterwarnings(\"ignore\")\n",
    "import glob\n",
    "import pandas as pd"
   ]
  },
  {
   "cell_type": "code",
   "execution_count": 4,
   "metadata": {},
   "outputs": [],
   "source": [
    "##  create empty dataframe for county statistics (calculated below)\n",
    "cnty_cols = ['fips_code',  'state_code', 'mn_pay', 'sd_pay', 'cv_pay', 'nn_pay', \n",
    "             'pct_sp1011', 'pct_sp1012', 'pct_sp1013', 'pct_sp1021', 'pct_sp1022', \n",
    "             'pct_sp1023', 'pct_sp1024', 'pct_sp1025', 'pct_sp1026', 'pct_sp1027', \n",
    "             'pct_sp1028', 'pct_sp1029']\n",
    "cnty_df = pd.DataFrame(columns = cnty_cols)"
   ]
  },
  {
   "cell_type": "code",
   "execution_count": 5,
   "metadata": {},
   "outputs": [],
   "source": [
    "##  create lists of columns from the individual datafiles\n",
    "\n",
    "##  initial first columns \n",
    "cols_first = ['own_code', 'industry_code', 'agglvl_code', 'size_code']\n",
    "\n",
    "##  columns of interest\n",
    "cols_int = ['annual_avg_estabs_count', 'annual_avg_emplvl',\n",
    "            'avg_annual_pay','total_annual_wages']\n",
    "\n",
    "##  columns to display\n",
    "cols_disp = cols_first + cols_int\n",
    "\n",
    "##  NOTE:  avg_annual_pay = total_annual_wages / annual_avg_emplvl\n",
    "\n",
    "##  columns we don't need\n",
    "##  ---------------------\n",
    "##  'area_fips' -- FIPS area ID\n",
    "##  'year' & 'qtr' -- all data is 2019 annual\n",
    "##  'disclosure_code'\n",
    "##  'taxable_annual_wages' -- may be zero (e.g. employer is US federal gov't)\n",
    "##  'annual_contributions' -- may be zero\n",
    "##  'annual_avg_wkly_wage' -- it's equal to:  avg_annual_pay / 52"
   ]
  },
  {
   "cell_type": "code",
   "execution_count": 6,
   "metadata": {},
   "outputs": [],
   "source": [
    "##  get list of datafiles\n",
    "extension = 'csv.gz'\n",
    "qcew_files = glob.glob('qcew2019/*.{}'.format(extension))\n",
    "\n",
    "##  read in the data\n",
    "for qcew_file in sorted(qcew_files):\n",
    "    \n",
    "    ##  read in the datafile\n",
    "    dta = pd.read_csv(qcew_file,compression='gzip')\n",
    "    \n",
    "    ##  only need first 20 (rest are location quotients and over year change)\n",
    "    dta = dta[dta.columns[0:20]]\n",
    "    \n",
    "    ##  convert some columns to strings\n",
    "    dta['area_fips'] = dta['area_fips'].apply(str)\n",
    "    dta['own_code'] = dta['own_code'].apply(str)\n",
    "    dta['industry_code'] = dta['industry_code'].apply(str)\n",
    "    dta['agglvl_code'] = dta['agglvl_code'].apply(str)\n",
    "    dta['size_code'] = dta['size_code'].apply(str)\n",
    "    dta['year'] = dta['year'].apply(str)\n",
    "    \n",
    "    ##  get FIPS code and state code\n",
    "    area_fips = dta['area_fips'][0]\n",
    "    try:\n",
    "        fips_code = f'{int(area_fips):05}'\n",
    "    except:\n",
    "        fips_code = area_fips\n",
    "    state_code = fips_code[0:2]\n",
    "    \n",
    "    ##  create table for computation of county statistics\n",
    "    indus6 = dta[dta['agglvl_code']=='78'].groupby('industry_code')[cols_int].sum()\n",
    "    indus6 = indus6[indus6['annual_avg_emplvl'] > 0]\n",
    "    \n",
    "    ##  compute mean, std dev and coeff of variation\n",
    "    nn_pay = indus6['annual_avg_emplvl'].sum()\n",
    "    mn_pay = (indus6['avg_annual_pay'] * indus6['annual_avg_emplvl'] / nn_pay).sum()\n",
    "    sd_pay = ((((indus6['avg_annual_pay'] - mn_pay)**2) * (indus6['annual_avg_emplvl'] / nn_pay)).sum())**0.5\n",
    "    cv_pay = sd_pay / mn_pay\n",
    "    \n",
    "    ##  put them all in a series\n",
    "    pay_stats = pd.Series(data = [mn_pay, sd_pay, cv_pay, nn_pay],\n",
    "                          index = ['mn_pay', 'sd_pay', 'cv_pay', 'nn_pay'])\n",
    "    \n",
    "    ##  create table for computation of employment by supersector\n",
    "    indus2 = dta[dta['agglvl_code']=='73'].groupby('industry_code')[cols_int].sum()\n",
    "    \n",
    "    ##  calculate percentages and put them in a series\n",
    "    nn_mix = indus2['annual_avg_emplvl'].sum()\n",
    "    pt_mix = indus2['annual_avg_emplvl'] / nn_mix\n",
    "    pt_mix.index = ['pct_sp{0}'.format(idx) for idx in pt_mix.index]\n",
    "    \n",
    "    ##  get the identifiers\n",
    "    id_codes = pd.Series([fips_code,state_code])\n",
    "    id_codes.index = ['fips_code','state_code']\n",
    "    \n",
    "    ##  combine the three series\n",
    "    cnty_row = pd.concat([id_codes,pay_stats,pt_mix])\n",
    "\n",
    "    ##  give the series a name\n",
    "    cnty_row.name = fips_code\n",
    "\n",
    "    ##  if it is a county, then append the series to the county dataframe\n",
    "    if fips_code.endswith('000'):\n",
    "        blah = 'no good -- state'\n",
    "    else:\n",
    "        try:\n",
    "            int(fips_code)\n",
    "            ##  code is integer (therefore county), so append\n",
    "            cnty_df = cnty_df.append(cnty_row)\n",
    "        except:\n",
    "            blah = 'no good -- US or MSA'\n",
    "\n",
    "\n",
    "##  replace NA values with Zero in the supersector percentages\n",
    "cnty_df[cnty_cols[6:18]] = cnty_df[cnty_cols[6:18]].fillna(0)"
   ]
  },
  {
   "cell_type": "code",
   "execution_count": 7,
   "metadata": {},
   "outputs": [],
   "source": [
    "##  export the dataframe to CSV\n",
    "cnty_df.to_csv('qcew2019.csv')"
   ]
  },
  {
   "cell_type": "code",
   "execution_count": null,
   "metadata": {},
   "outputs": [],
   "source": []
  }
 ],
 "metadata": {
  "kernelspec": {
   "display_name": "Python 3",
   "language": "python",
   "name": "python3"
  },
  "language_info": {
   "codemirror_mode": {
    "name": "ipython",
    "version": 3
   },
   "file_extension": ".py",
   "mimetype": "text/x-python",
   "name": "python",
   "nbconvert_exporter": "python",
   "pygments_lexer": "ipython3",
   "version": "3.7.3"
  }
 },
 "nbformat": 4,
 "nbformat_minor": 2
}
